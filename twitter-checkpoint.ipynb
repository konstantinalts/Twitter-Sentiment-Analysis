{
 "cells": [
  {
   "cell_type": "code",
   "execution_count": 15,
   "metadata": {},
   "outputs": [],
   "source": [
    "import tweepy \n",
    "import pandas as pd\n",
    "import mysql.connector\n",
    "from mysql.connector import Error \n",
    "import re"
   ]
  },
  {
   "cell_type": "code",
   "execution_count": 16,
   "metadata": {},
   "outputs": [],
   "source": [
    "consumer_key = \"4Ta3F7hc8tYTd6stQvdhUSHyJ\"\n",
    "consumer_secret = \"JnHJNTPKDpXOebua5KflB6vOorCOeGAx041OPm1t87aYq7YQYt\"\n",
    "access_token = \"1221851180617424898-pvoOU1NnmBCURfD6pNS9PNNlcmItDH\"\n",
    "access_token_secret = \"SyOBpEawl2Bde9b6ZqejD2lSj6sRhOl87m559LpfaIZU8\""
   ]
  },
  {
   "cell_type": "code",
   "execution_count": 18,
   "metadata": {},
   "outputs": [
    {
     "name": "stdout",
     "output_type": "stream",
     "text": [
      "Connected to mySQL \n",
      "\n",
      "1051 (42S02): Unknown table 'tweets_db.tweets'\n",
      "\n",
      " Database connection closed\n"
     ]
    }
   ],
   "source": [
    "try:\n",
    "    db = mysql.connector.connect(host = 'localhost', port = '3306', database = 'tweets_db', user = 'root', password='')\n",
    "    if db.is_connected():\n",
    "        print(\"Connected to mySQL \\n\")\n",
    "        cur = db.cursor()\n",
    "     \n",
    "    query=\"DROP TABLE TWEETS\"\n",
    "    cur.execute(query)\n",
    "    print(\"executed\\n\")\n",
    "    \n",
    "    query = \"CREATE TABLE TWEETS (USER_ID VARCHAR(25), USER_ACCOUNT VARCHAR(15), NUM_FOLLOWERS INT, NUM_TWEETS INT, NUM_RETWEETS INT, TEXT VARCHAR(150), DATE DATE, LOCATION VARCHAR(40), HASHTAGS VARCHAR(20))\"\n",
    "    cur.execute(query)\n",
    "    print(\"executed\\n\")\n",
    "\n",
    "    \n",
    "except Error as e:\n",
    "    print(e)\n",
    "\n",
    "finally:\n",
    "    db.close()\n",
    "    print(\"\\n Database connection closed\")"
   ]
  },
  {
   "cell_type": "code",
   "execution_count": 12,
   "metadata": {},
   "outputs": [],
   "source": [
    "auth = tweepy.OAuthHandler(consumer_key, consumer_secret)\n",
    "auth.set_access_token(access_token, access_token_secret)\n",
    "api = tweepy.API(auth,wait_on_rate_limit=True)"
   ]
  },
  {
   "cell_type": "code",
   "execution_count": 10,
   "metadata": {},
   "outputs": [
    {
     "name": "stdout",
     "output_type": "stream",
     "text": [
      "1146 (42S02): Table 'tweets_db.tweets' doesn't exist\n"
     ]
    }
   ],
   "source": [
    "try:\n",
    "    db = mysql.connector.connect(host = 'localhost', port = '3306', database = 'tweets_db', user = 'root', password='', charset = 'utf8')\n",
    "    \n",
    "    if db.is_connected():\n",
    "        cur = db.cursor()\n",
    "        \n",
    "        for tweet in tweepy.Cursor(api.search,q=\"#brexit\", lang=\"en\",since=\"2020-01-01\").items(10):\n",
    "            \n",
    "            user_id = tweet.user.id\n",
    "            user_account = tweet.user.screen_name\n",
    "            num_followers = tweet.user.followers_count\n",
    "            num_tweets = tweet.user.statuses_count\n",
    "            num_retweets = tweet.retweet_count\n",
    "            txt = tweet.text\n",
    "            date = tweet.created_at\n",
    "            location = tweet.user.location\n",
    "            \n",
    "    \n",
    "            query = \"INSERT INTO tweets VALUES (%s, %s, %s, %s,%s, %s, %s, %s)\"\n",
    "            cur.execute(query, (user_id, user_account, num_followers, num_tweets, num_retweets, txt, date, location))\n",
    "            db.commit()\n",
    "            \n",
    "            print(cur.rowcount, \"was inserted.\")\n",
    "\n",
    "except Error as e:\n",
    "    print(e)"
   ]
  },
  {
   "cell_type": "code",
   "execution_count": 13,
   "metadata": {},
   "outputs": [
    {
     "ename": "SyntaxError",
     "evalue": "invalid syntax (<ipython-input-13-04c65833627e>, line 1)",
     "output_type": "error",
     "traceback": [
      "\u001b[1;36m  File \u001b[1;32m\"<ipython-input-13-04c65833627e>\"\u001b[1;36m, line \u001b[1;32m1\u001b[0m\n\u001b[1;33m    finally:\u001b[0m\n\u001b[1;37m          ^\u001b[0m\n\u001b[1;31mSyntaxError\u001b[0m\u001b[1;31m:\u001b[0m invalid syntax\n"
     ]
    }
   ],
   "source": [
    "finally:\n",
    "    db.close()\n",
    "    print(\"\\n Database connection closed\")"
   ]
  },
  {
   "cell_type": "code",
   "execution_count": null,
   "metadata": {},
   "outputs": [],
   "source": []
  }
 ],
 "metadata": {
  "kernelspec": {
   "display_name": "Python 3",
   "language": "python",
   "name": "python3"
  },
  "language_info": {
   "codemirror_mode": {
    "name": "ipython",
    "version": 3
   },
   "file_extension": ".py",
   "mimetype": "text/x-python",
   "name": "python",
   "nbconvert_exporter": "python",
   "pygments_lexer": "ipython3",
   "version": "3.7.1"
  }
 },
 "nbformat": 4,
 "nbformat_minor": 2
}
